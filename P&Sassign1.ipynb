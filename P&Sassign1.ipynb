{
  "nbformat": 4,
  "nbformat_minor": 0,
  "metadata": {
    "colab": {
      "provenance": [],
      "authorship_tag": "ABX9TyMzHWFkBWHkkjNZZ3HuyDC7",
      "include_colab_link": true
    },
    "kernelspec": {
      "name": "python3",
      "display_name": "Python 3"
    },
    "language_info": {
      "name": "python"
    }
  },
  "cells": [
    {
      "cell_type": "markdown",
      "metadata": {
        "id": "view-in-github",
        "colab_type": "text"
      },
      "source": [
        "<a href=\"https://colab.research.google.com/github/aneesh2561/P-S/blob/main/P%26Sassign1.ipynb\" target=\"_parent\"><img src=\"https://colab.research.google.com/assets/colab-badge.svg\" alt=\"Open In Colab\"/></a>"
      ]
    },
    {
      "cell_type": "code",
      "execution_count": null,
      "metadata": {
        "colab": {
          "base_uri": "https://localhost:8080/"
        },
        "id": "oEq7S7IbwzY-",
        "outputId": "193162d5-4855-4dc3-bcc5-bff76fd513f6"
      },
      "outputs": [
        {
          "output_type": "execute_result",
          "data": {
            "text/plain": [
              "4"
            ]
          },
          "metadata": {},
          "execution_count": 1
        }
      ],
      "source": [
        "2+2\n"
      ]
    },
    {
      "cell_type": "code",
      "source": [
        "?cat()\n",
        "\n"
      ],
      "metadata": {
        "id": "RdSzIrEhxqxm"
      },
      "execution_count": null,
      "outputs": []
    },
    {
      "cell_type": "code",
      "source": [
        "?print"
      ],
      "metadata": {
        "id": "BVIjtFu5xzS5"
      },
      "execution_count": null,
      "outputs": []
    },
    {
      "cell_type": "code",
      "source": [
        "a=10\n",
        "b=20\n",
        "c=a+b\n",
        "print(c)"
      ],
      "metadata": {
        "colab": {
          "base_uri": "https://localhost:8080/"
        },
        "id": "YIxT9MEVyNB5",
        "outputId": "c9446b76-73d3-4cc6-f0c8-329532a138c8"
      },
      "execution_count": null,
      "outputs": [
        {
          "output_type": "stream",
          "name": "stdout",
          "text": [
            "30\n"
          ]
        }
      ]
    },
    {
      "cell_type": "code",
      "source": [
        "%load_ext rpy2.ipython"
      ],
      "metadata": {
        "id": "GgiWQpms0ZDL"
      },
      "execution_count": null,
      "outputs": []
    },
    {
      "cell_type": "code",
      "source": [
        "%%R\n",
        "runif(5)\n",
        "n <- runif(5)\n",
        "\n",
        "cat(min(n),max(n),sum(n),mean(n),sd(n))"
      ],
      "metadata": {
        "colab": {
          "base_uri": "https://localhost:8080/"
        },
        "id": "VdYItmN10eUz",
        "outputId": "b1d4f5ff-08dc-4859-e7a5-dea7ee7a9251"
      },
      "execution_count": null,
      "outputs": [
        {
          "output_type": "stream",
          "name": "stdout",
          "text": [
            "0.01856883 0.442511 1.20861 0.2417219 0.189581"
          ]
        }
      ]
    },
    {
      "cell_type": "code",
      "source": [
        "%%R\n",
        "\n",
        "for ( i in 1:2:10){\n",
        "  cat (i,\"\\n\")\n",
        "}"
      ],
      "metadata": {
        "colab": {
          "base_uri": "https://localhost:8080/"
        },
        "id": "8cZG6w7y27wk",
        "outputId": "10a855c0-d5ee-4670-bea3-83b7f121b3b1"
      },
      "execution_count": null,
      "outputs": [
        {
          "output_type": "stream",
          "name": "stdout",
          "text": [
            "1 \n",
            "2 \n",
            "3 \n",
            "4 \n",
            "5 \n",
            "6 \n",
            "7 \n",
            "8 \n",
            "9 \n",
            "10 \n"
          ]
        }
      ]
    },
    {
      "cell_type": "code",
      "source": [
        "%%R\n",
        "v1=c(5,10,15,20,25,30)\n",
        "cat('Vector is',v1)\n",
        "cat('\\nMax and min values are as follows',max(v1),'and',min(v1))\n",
        "#max and min vals"
      ],
      "metadata": {
        "colab": {
          "base_uri": "https://localhost:8080/"
        },
        "id": "ty0BGvJ26LaW",
        "outputId": "aa27752e-c851-4169-c779-c5623e4ff4c3"
      },
      "execution_count": null,
      "outputs": [
        {
          "output_type": "stream",
          "name": "stdout",
          "text": [
            "Vector is 5 10 15 20 25 30\n",
            "Max and min values are as follows 30 and 5"
          ]
        }
      ]
    },
    {
      "cell_type": "code",
      "source": [
        "%%R\n",
        "a= readline();\n",
        "a= as.integer(a);\n",
        "\n",
        "if(a>0){\n",
        "  cat(factorial(a))\n",
        "}else{\n",
        "  cat(\"not possible\")\n",
        "}"
      ],
      "metadata": {
        "colab": {
          "base_uri": "https://localhost:8080/"
        },
        "id": "GDgCj-4y6fqU",
        "outputId": "39276525-87e0-486a-dca9-b9c049cc7fba"
      },
      "execution_count": null,
      "outputs": [
        {
          "output_type": "stream",
          "name": "stdout",
          "text": [
            "5\n",
            "120"
          ]
        }
      ]
    },
    {
      "cell_type": "code",
      "source": [
        "%%R\n",
        "nums = c(10, 20, 30, 40, 50, 60)\n",
        "cat('Original vector:')\n",
        "cat(nums)   \n",
        "cat('\\nMaximum value of the said vector:',max(nums))\n",
        "cat('\\nMinimum value of the said vector:',min(nums))"
      ],
      "metadata": {
        "colab": {
          "base_uri": "https://localhost:8080/"
        },
        "id": "FHXMFbt8gd7M",
        "outputId": "b535c309-d778-455b-d23f-5c734ee5c103"
      },
      "execution_count": null,
      "outputs": [
        {
          "output_type": "stream",
          "name": "stdout",
          "text": [
            "Original vector:10 20 30 40 50 60\n",
            "Maximum value of the said vector: 60\n",
            "Minimum value of the said vector: 10"
          ]
        }
      ]
    },
    {
      "cell_type": "code",
      "source": [
        "%%R\n",
        "num = as.integer(readline(prompt=\"Enter a number: \"))\n",
        "factorial = 1\n",
        "if(num < 0) {\n",
        "cat(\"Sorry, factorial does not exist for negative numbers\")\n",
        "} else if(num == 0) {\n",
        "cat(\"The factorial of 0 is 1\")\n",
        "} else {\n",
        "for(i in 1:num) {\n",
        "factorial = factorial * i\n",
        "}\n",
        "cat(\"The factorial of\", num ,\"is\",factorial)\n",
        "}"
      ],
      "metadata": {
        "colab": {
          "base_uri": "https://localhost:8080/"
        },
        "id": "NZcSyZo3h0YS",
        "outputId": "57ee3762-31c0-46d4-ad71-ff8fa3ed1c3c"
      },
      "execution_count": null,
      "outputs": [
        {
          "output_type": "stream",
          "name": "stdout",
          "text": [
            "Enter a number: -2\n",
            "Sorry, factorial does not exist for negative numbers"
          ]
        }
      ]
    },
    {
      "cell_type": "code",
      "source": [
        "%%R\n",
        "num = as.integer(readline(prompt=\"Enter a number: \"))\n",
        "n1=0\n",
        "n2=1\n",
        "count=2\n",
        "cat ('0 ,1 ,')\n",
        "while(count < num) {\n",
        "nth = n1 + n2\n",
        "cat(nth,',')\n",
        "n1 = n2\n",
        "n2 = nth\n",
        "count = count + 1\n",
        "}\n"
      ],
      "metadata": {
        "colab": {
          "base_uri": "https://localhost:8080/"
        },
        "id": "ndp6tYOGjDP_",
        "outputId": "91e5696e-290a-4d21-810b-1102795f7ec1"
      },
      "execution_count": null,
      "outputs": [
        {
          "output_type": "stream",
          "name": "stdout",
          "text": [
            "Enter a number: 6\n",
            "0 ,1 ,1 ,2 ,3 ,5 ,"
          ]
        }
      ]
    },
    {
      "cell_type": "code",
      "source": [
        "%%R\n",
        "add <- function(x, y) {\n",
        "return(x + y)\n",
        "}\n",
        "subtract <- function(x, y) {\n",
        "return(x - y)\n",
        "}\n",
        "multiply <- function(x, y) {\n",
        "return(x * y)\n",
        "}\n",
        "divide <- function(x, y) {\n",
        "return(x / y)\n",
        "}\n",
        "\n",
        "cat(\"Select operation.\")\n",
        "cat(\"1.Add\")\n",
        "cat(\"2.Subtract\")\n",
        "cat(\"3.Multiply\")\n",
        "cat(\"4.Divide\")\n",
        "choice = as.integer(readline(prompt=\"Enter choice[1/2/3/4]: \"))\n",
        "num1 = as.integer(readline(prompt=\"Enter first number: \"))\n",
        "num2 = as.integer(readline(prompt=\"Enter second number: \"))\n",
        "operator <- switch(choice,\"+\",\"-\",\"*\",\"/\")\n",
        "result <- switch(choice, add(num1, num2), subtract(num1, num2), multiply(num1, num2), divide(num1, num2))\n",
        "cat2(num1, operator, num2, \"=\", result)"
      ],
      "metadata": {
        "colab": {
          "base_uri": "https://localhost:8080/"
        },
        "id": "pilkcF8Lna8-",
        "outputId": "83419874-dd3a-4cd2-e9c7-aa84d7073015"
      },
      "execution_count": null,
      "outputs": [
        {
          "output_type": "stream",
          "name": "stdout",
          "text": [
            "Select operation.1.Add2.Subtract3.Multiply4.DivideEnter choice[1/2/3/4]: 2\n",
            "Enter first number: 2\n",
            "Enter second number: 2\n",
            "2 - 2 = 0"
          ]
        }
      ]
    },
    {
      "cell_type": "code",
      "source": [
        "%%R\n",
        "max.temp <- c(22, 27, 26, 24, 23, 26, 28)\n",
        "barplot(max.temp)\n",
        "pie(max.temp)\n",
        "plot(max.temp)\n"
      ],
      "metadata": {
        "colab": {
          "base_uri": "https://localhost:8080/",
          "height": 1000
        },
        "id": "f7hNLODdoU5D",
        "outputId": "7ee60502-3815-4653-ea91-ade966ee935e"
      },
      "execution_count": null,
      "outputs": [
        {
          "output_type": "display_data",
          "data": {
            "image/png": "[encoded data removed]"
          },
          "metadata": {}
        },
        {
          "output_type": "display_data",
          "data": {
            "image/png": "[encoded data removed]"
          },
          "metadata": {}
        },
        {
          "output_type": "display_data",
          "data": {
            "image/png": "[encoded data removed]"
          },
          "metadata": {}
        }
      ]
    }
  ]
}